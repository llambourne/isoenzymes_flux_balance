{
 "cells": [
  {
   "cell_type": "markdown",
   "metadata": {},
   "source": [
    "# Flux Balance Analysis model predictions of essential genes\n",
    "\n",
    "A quick look at the FBA model predictions of essentiality data from the [Saccharomyces Genome Deletion Project](http://www-sequence.stanford.edu/group/yeast_deletion_project/)."
   ]
  },
  {
   "cell_type": "code",
   "execution_count": 1,
   "metadata": {
    "collapsed": false
   },
   "outputs": [],
   "source": [
    "import sys\n",
    "from warnings import filterwarnings\n",
    "from scipy import stats\n",
    "import cobra\n",
    "sys.path.append('../flux_balance_analysis')\n",
    "from single_knockouts import single_knockout_loss_costs , single_knockout_modified_loss_cost\n",
    "from double_knockouts import load_sd_minus_his"
   ]
  },
  {
   "cell_type": "code",
   "execution_count": 2,
   "metadata": {
    "collapsed": false,
    "scrolled": true
   },
   "outputs": [],
   "source": [
    "filterwarnings('ignore', 'charge of s_[0-9][0-9][0-9][0-9] is not a number ()')\n",
    "filterwarnings('ignore', 'uppercase AND/OR found in rule ')\n",
    "model = load_sd_minus_his('../data/external/yeast_7.6/yeast_7.6.xml')\n",
    "with open('../data/processed/Essential_ORFs.txt', 'r') as f:\n",
    "    essentialGenes = set([l.strip() for l in f.readlines()])"
   ]
  },
  {
   "cell_type": "code",
   "execution_count": 3,
   "metadata": {
    "collapsed": false
   },
   "outputs": [
    {
     "name": "stdout",
     "output_type": "stream",
     "text": [
      "using gene-loss costs\n",
      "1122 experimental essential genes\n",
      "909 genes in model\n",
      "139 overlap\n"
     ]
    }
   ],
   "source": [
    "print 'using gene-loss costs'\n",
    "print len(essentialGenes), 'experimental essential genes'\n",
    "genes = set([g.id for g in model.genes])\n",
    "print len(genes), 'genes in model'\n",
    "print len(genes.intersection(essentialGenes)), 'overlap'\n",
    "_wtGrew, glc, flc = single_knockout_loss_costs(model)\n",
    "modifiedCost = single_knockout_modified_loss_cost(model)"
   ]
  },
  {
   "cell_type": "code",
   "execution_count": 6,
   "metadata": {
    "collapsed": false
   },
   "outputs": [
    {
     "name": "stdout",
     "output_type": "stream",
     "text": [
      "1122 experimental essential genes\n",
      "909 toal genes in the FBA model\n",
      "139 overlap between the model genes and the essential genes.\n",
      "\n",
      "Gene-loss\n",
      "108 predicted essential\n",
      "77 predicted correctly\n",
      "p-value 1.3e-47\n",
      "odds-ratio 29.6\n",
      "\n",
      "Function-loss\n",
      "144 predicted essential\n",
      "64 predicted correctly\n",
      "p-value 4.7e-21\n",
      "odds-ratio 7.4\n",
      "\n",
      "Gene-loss with non-redundant isoenzymes\n",
      "165 predicted essential\n",
      "80 predicted correctly\n",
      "p-value 2.0e-31\n",
      "odds-ratio 10.9\n"
     ]
    }
   ],
   "source": [
    "print len(essentialGenes), 'experimental essential genes'\n",
    "genes = set([g.id for g in model.genes])\n",
    "print len(genes), 'toal genes in the FBA model'\n",
    "print len(genes.intersection(essentialGenes)), 'overlap between the model genes and the essential genes.'\n",
    "_wtGrew, glc, flc = single_knockout_loss_costs(model)\n",
    "modifiedCost = single_knockout_modified_loss_cost(model)\n",
    "\n",
    "def essential_gene_prediction_hypothesis_test(costs):\n",
    "    modelPredictions = set([orfID for orfID, cost in costs.items() if cost > 0.999])\n",
    "    print len(modelPredictions), 'predicted essential'\n",
    "    tp = len(modelPredictions.intersection(essentialGenes))\n",
    "    print tp, 'predicted correctly'\n",
    "    fp = len(modelPredictions) - tp\n",
    "    fn = len(genes.intersection(essentialGenes)) - tp\n",
    "    tn = len(genes) - (tp + fp + fn)\n",
    "    odds, pval = stats.fisher_exact([[tn, fp],[fn, tp]])\n",
    "    print 'p-value %.1e' % pval\n",
    "    print 'odds-ratio %.1f' % odds\n",
    "    \n",
    "    \n",
    "print '\\nGene-loss'\n",
    "essential_gene_prediction_hypothesis_test(glc)\n",
    "print '\\nFunction-loss'\n",
    "essential_gene_prediction_hypothesis_test(flc)\n",
    "print '\\nGene-loss with non-redundant isoenzymes'\n",
    "essential_gene_prediction_hypothesis_test(modifiedCost)"
   ]
  }
 ],
 "metadata": {
  "kernelspec": {
   "display_name": "Python 2",
   "language": "python",
   "name": "python2"
  },
  "language_info": {
   "codemirror_mode": {
    "name": "ipython",
    "version": 2
   },
   "file_extension": ".py",
   "mimetype": "text/x-python",
   "name": "python",
   "nbconvert_exporter": "python",
   "pygments_lexer": "ipython2",
   "version": "2.7.12"
  }
 },
 "nbformat": 4,
 "nbformat_minor": 1
}
